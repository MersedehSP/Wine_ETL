{
 "cells": [
  {
   "cell_type": "code",
   "execution_count": 1,
   "metadata": {},
   "outputs": [],
   "source": [
    "\n",
    "import time\n",
    "from bs4 import BeautifulSoup\n",
    "from webdriver_manager.chrome import ChromeDriverManager\n",
    "import pandas as pd\n",
    "from splinter import Browser"
   ]
  },
  {
   "cell_type": "code",
   "execution_count": 2,
   "metadata": {},
   "outputs": [
    {
     "name": "stderr",
     "output_type": "stream",
     "text": [
      "[WDM] - Current google-chrome version is 86.0.4240\n",
      "[WDM] - Get LATEST driver version for 86.0.4240\n",
      "[WDM] - Driver [C:\\Users\\merse\\.wdm\\drivers\\chromedriver\\win32\\86.0.4240.22\\chromedriver.exe] found in cache\n"
     ]
    },
    {
     "name": "stdout",
     "output_type": "stream",
     "text": [
      " \n"
     ]
    }
   ],
   "source": [
    "# Import Splinter and set the chromedriver path\n",
    "\n",
    "executable_path = {'executable_path': ChromeDriverManager().install()}\n",
    "browser = Browser('chrome', **executable_path, headless=False)"
   ]
  },
  {
   "cell_type": "code",
   "execution_count": 3,
   "metadata": {},
   "outputs": [],
   "source": [
    "url = \"https://hillsborough.bottleking.com/main.asp?request=search&type=w\"\n",
    "browser.visit(url)\n",
    "html = browser.html\n",
    "soup = BeautifulSoup(html, 'html.parser')"
   ]
  },
  {
   "cell_type": "code",
   "execution_count": 4,
   "metadata": {},
   "outputs": [
    {
     "name": "stderr",
     "output_type": "stream",
     "text": [
      "C:\\Users\\merse\\anaconda3\\envs\\PythonData\\lib\\site-packages\\splinter\\driver\\webdriver\\__init__.py:493: FutureWarning: browser.find_link_by_partial_text is deprecated. Use browser.links.find_by_partial_text instead.\n",
      "  FutureWarning,\n"
     ]
    }
   ],
   "source": [
    "browser.find_link_by_partial_text(\"click for more details\")[0].click()"
   ]
  },
  {
   "cell_type": "code",
   "execution_count": 5,
   "metadata": {},
   "outputs": [
    {
     "name": "stdout",
     "output_type": "stream",
     "text": [
      " Kendall-Jackson Vintner's Reserve Chardonnay\n",
      "United States\n",
      "California\n",
      "Chardonnay\n",
      "Still wine\n",
      "$16.99\n",
      "$12.09\n"
     ]
    }
   ],
   "source": [
    "#test for one \n",
    "wine_html =  browser.html\n",
    "wine_soup = BeautifulSoup(wine_html, 'html.parser')\n",
    "name = wine_soup.find(\"span\", class_=\"producttitle\").text\n",
    "country =wine_soup.find_all(\"a\", class_=\"reglink\")[0].text\n",
    "region = wine_soup.find_all(\"a\", class_=\"reglink\")[1].text\n",
    "grape_varietal = wine_soup.find_all(\"a\", class_=\"reglink\")[2].text\n",
    "wine_type = wine_soup.find_all(\"a\", class_=\"reglink\")[3].text\n",
    "bottle_price = wine_soup.find(\"span\", class_=\"sreg-price\").text\n",
    "sale_price = wine_soup.find(\"span\", class_=\"ssale-price\").text\n",
    "print(name)\n",
    "print(country)\n",
    "print(region)\n",
    "print(grape_varietal)\n",
    "print(wine_type)\n",
    "print(bottle_price)\n",
    "print(sale_price)"
   ]
  },
  {
   "cell_type": "code",
   "execution_count": 6,
   "metadata": {},
   "outputs": [
    {
     "data": {
      "text/plain": [
       "[{'name': \" Kendall-Jackson Vintner's Reserve Chardonnay\",\n",
       "  'country': 'United States',\n",
       "  'region': 'California',\n",
       "  'grape_varietal': 'Chardonnay',\n",
       "  'wine_type': 'Still wine',\n",
       "  'bottle_price': '$16.99',\n",
       "  'sale_price': '$12.09'},\n",
       " {'name': ' Menage A Trois Red',\n",
       "  'country': 'United States',\n",
       "  'region': 'California',\n",
       "  'grape_varietal': 'Cabernet Sauvignon,Merlot,Zinfandel',\n",
       "  'wine_type': 'Still wine',\n",
       "  'bottle_price': '$12.99',\n",
       "  'sale_price': '$9.99'},\n",
       " {'name': ' Los Haroldos Reserva Malbec 2017',\n",
       "  'country': 'Argentina',\n",
       "  'region': 'Cuyo',\n",
       "  'grape_varietal': 'Mendoza',\n",
       "  'wine_type': 'Uco Valley',\n",
       "  'bottle_price': '$17.99',\n",
       "  'sale_price': '$9.99'},\n",
       " {'name': ' 337 Cabernet Sauvignon',\n",
       "  'country': 'United States',\n",
       "  'region': 'California',\n",
       "  'grape_varietal': 'Central Valley',\n",
       "  'wine_type': 'Lodi',\n",
       "  'bottle_price': '$13.99',\n",
       "  'sale_price': ''},\n",
       " {'name': ' J. Lohr Cabernet Sauvignon Seven Oaks',\n",
       "  'country': 'United States',\n",
       "  'region': 'California',\n",
       "  'grape_varietal': 'San Luis Obispo',\n",
       "  'wine_type': 'Paso Robles',\n",
       "  'bottle_price': '$17.99',\n",
       "  'sale_price': '$13.39'},\n",
       " {'name': ' Oyster Bay Sauvignon Blanc',\n",
       "  'country': 'New Zealand',\n",
       "  'region': 'Marlborough',\n",
       "  'grape_varietal': 'Sauvignon Blanc',\n",
       "  'wine_type': 'Still wine',\n",
       "  'bottle_price': '$15.99',\n",
       "  'sale_price': '$11.09'},\n",
       " {'name': ' Josh Cabernet Sauvignon',\n",
       "  'country': 'United States',\n",
       "  'region': 'California',\n",
       "  'grape_varietal': 'North Coast',\n",
       "  'wine_type': 'Cabernet Sauvignon',\n",
       "  'bottle_price': '$17.99',\n",
       "  'sale_price': '$13.09'},\n",
       " {'name': ' Castellani Chianti Classico Riserva 2015',\n",
       "  'country': 'Italy',\n",
       "  'region': 'Tuscany',\n",
       "  'grape_varietal': 'Chianti',\n",
       "  'wine_type': 'Chianti Classico',\n",
       "  'bottle_price': '$14.99',\n",
       "  'sale_price': '$9.99'},\n",
       " {'name': None,\n",
       "  'country': None,\n",
       "  'region': None,\n",
       "  'grape_varietal': None,\n",
       "  'wine_type': None,\n",
       "  'bottle_price': None,\n",
       "  'sale_price': None},\n",
       " {'name': ' Martin Codax Rias Baixas Albarino',\n",
       "  'country': 'Spain',\n",
       "  'region': 'Galicia',\n",
       "  'grape_varietal': 'Rias Baixas',\n",
       "  'wine_type': 'Albarino',\n",
       "  'bottle_price': '$14.99',\n",
       "  'sale_price': '$11.99'}]"
      ]
     },
     "execution_count": 6,
     "metadata": {},
     "output_type": "execute_result"
    }
   ],
   "source": [
    "btkg_url = \"https://hillsborough.bottleking.com/main.asp?request=search&type=w\"\n",
    "browser.visit(btkg_url)\n",
    "\n",
    "wine_list = []\n",
    "#\n",
    "for i in range(10):\n",
    "    wine ={}\n",
    "    browser.find_link_by_partial_text(\"click for more details\")[i].click()\n",
    "    wine_html =  browser.html\n",
    "    wine_soup = BeautifulSoup(wine_html, 'html.parser')\n",
    "    \n",
    "    try:\n",
    "        \n",
    "        name = wine_soup.find(\"span\", class_=\"producttitle\").text\n",
    "        country =wine_soup.find_all(\"a\", class_=\"reglink\")[0].text\n",
    "        region = wine_soup.find_all(\"a\", class_=\"reglink\")[1].text\n",
    "        grape_varietal = wine_soup.find_all(\"a\", class_=\"reglink\")[2].text\n",
    "        wine_type = wine_soup.find_all(\"a\", class_=\"reglink\")[3].text\n",
    "        bottle_price = wine_soup.find(\"span\", class_=\"sreg-price\").text\n",
    "        sale_price = wine_soup.find(\"span\", class_=\"ssale-price\").text\n",
    "    except:\n",
    "        name= None\n",
    "        country =None\n",
    "        region = None\n",
    "        grape_varietal = None\n",
    "        wine_type = None\n",
    "        bottle_price = None\n",
    "        sale_price =None\n",
    "    wine ={\"name\":name, \n",
    "         \"country\": country,\n",
    "         \"region\": region,\n",
    "         \"grape_varietal\" : grape_varietal,\n",
    "          \"wine_type\" : wine_type,\n",
    "           \"bottle_price\":bottle_price,\n",
    "           \"sale_price\":sale_price\n",
    "         }\n",
    "    wine_list.append(wine)\n",
    "    browser.back()\n",
    "\n",
    "wine_list"
   ]
  },
  {
   "cell_type": "code",
   "execution_count": 12,
   "metadata": {},
   "outputs": [],
   "source": [
    "import csv\n",
    "csv_columns = [\"name\",\"country\",\"region\",\"grape_varietal\",\"wine_type\", \"bottle_price\",\"sale_price\" ]\n",
    "csv_file =\"data.csv\"\n",
    "try:\n",
    "    with open(csv_file, 'w') as csvfile:\n",
    "        writer = csv.DictWriter(csvfile, fieldnames=csv_columns)\n",
    "        writer.writeheader()\n",
    "        for data in wine_list:\n",
    "            writer.writerow(data)\n",
    "except IOError:\n",
    "    print(\"I/O error\")"
   ]
  },
  {
   "cell_type": "code",
   "execution_count": null,
   "metadata": {},
   "outputs": [],
   "source": []
  },
  {
   "cell_type": "code",
   "execution_count": null,
   "metadata": {},
   "outputs": [],
   "source": []
  }
 ],
 "metadata": {
  "kernelspec": {
   "display_name": "Python 3",
   "language": "python",
   "name": "python3"
  },
  "language_info": {
   "codemirror_mode": {
    "name": "ipython",
    "version": 3
   },
   "file_extension": ".py",
   "mimetype": "text/x-python",
   "name": "python",
   "nbconvert_exporter": "python",
   "pygments_lexer": "ipython3",
   "version": "3.6.10"
  }
 },
 "nbformat": 4,
 "nbformat_minor": 4
}
