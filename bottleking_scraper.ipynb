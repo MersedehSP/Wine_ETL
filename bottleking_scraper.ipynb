{
 "cells": [
  {
   "cell_type": "code",
   "execution_count": 1,
   "metadata": {},
   "outputs": [],
   "source": [
    "import pandas as pd\n",
    "from splinter import Browser\n",
    "from bs4 import BeautifulSoup\n",
    "from webdriver_manager.chrome import ChromeDriverManager"
   ]
  },
  {
   "cell_type": "code",
   "execution_count": 2,
   "metadata": {},
   "outputs": [
    {
     "name": "stderr",
     "output_type": "stream",
     "text": [
      "[WDM] - Current google-chrome version is 86.0.4240\n",
      "[WDM] - Get LATEST driver version for 86.0.4240\n",
      "[WDM] - Driver [C:\\Users\\jlubr\\.wdm\\drivers\\chromedriver\\win32\\86.0.4240.22\\chromedriver.exe] found in cache\n"
     ]
    },
    {
     "name": "stdout",
     "output_type": "stream",
     "text": [
      " \n"
     ]
    }
   ],
   "source": [
    "executable_path={'executable_path':ChromeDriverManager().install()}\n",
    "browser=Browser('chrome',**executable_path, headless=False)"
   ]
  },
  {
   "cell_type": "code",
   "execution_count": 3,
   "metadata": {},
   "outputs": [],
   "source": [
    "# Chathams Bottlekings wine url\n",
    "\n",
    "url='https://chatham.bottleking.com/main.asp?request=search&type=w'\n",
    "browser.visit(url)"
   ]
  },
  {
   "cell_type": "code",
   "execution_count": 4,
   "metadata": {},
   "outputs": [
    {
     "name": "stdout",
     "output_type": "stream",
     "text": [
      "Scraping please be patient\n",
      "Scraping Complete\n"
     ]
    }
   ],
   "source": [
    "#Dataframe where all the data will be staged before writing it into a .csv file.\n",
    "\n",
    "wine_df=pd.DataFrame(columns=['merchant','address','name','regprice','description','country',\n",
    "                              'region','subregion','variety','type'])\n",
    "\n",
    "merchant='Chatham BottleKing'\n",
    "address='41 Watchung Ave, Chatham, NJ, 07928'\n",
    "\n",
    "print(\"Scraping please be patient\")\n",
    "while True:\n",
    "    html=browser.html\n",
    "    soup=BeautifulSoup(html,'html.parser')\n",
    "    \n",
    "# Total wines on the website.\n",
    "    wines=soup.find_all('a',{'class':['Srch-producttitle']})\n",
    "\n",
    "# Sku's of all the wines which will be used to create a new url so that further details\n",
    "#     can be obtained.\n",
    "    wines_sku=soup.find_all('span',{'class':['Srch-sku']}) \n",
    "\n",
    "# Descriptions of all the wines..\n",
    "    wines_description=soup.find_all('span',{'class':['Srch-partialDesc']})\n",
    "    wines_bottleprice=soup.find_all('span',{'class':['RegularPrice']})\n",
    "\n",
    "# Click into details of a wine for the length of all wines on the website.\n",
    "    for i in range(len(wines)):\n",
    "        sku=wines_sku[i].text.replace('Sku: ','')\n",
    "\n",
    "# Detail url for the wine.\n",
    "        url='https://chatham.bottleking.com/sku'+ sku +'.html'\n",
    "        try:\n",
    "\n",
    "# All data was not available for all wines.  Some wines had subregion and some did not..\n",
    "            subregion='N/A'\n",
    "\n",
    "# Visit detail of wine bottle using the new url..\n",
    "            browser.visit(url)\n",
    "            html=browser.html\n",
    "            soup=BeautifulSoup(html,'html.parser')\n",
    "            more_info=str(soup.find_all('a',{'class':['reglink']}))\n",
    "#            print(more_info)\n",
    "            country=more_info.split('country=')[1]\n",
    "            country=country.split('\">')[0]\n",
    "            region=more_info.split('region=')[1]\n",
    "            region=region.split('\">')[0]\n",
    "            variety=more_info.split('variety=')[1]\n",
    "            variety=variety.split('\">')[0]\n",
    "            wtype=more_info.split('type=W\">')[1]\n",
    "            wtype=wtype.split('<')[0]\n",
    "\n",
    "# Condition for if this wine has a subregion or not...\n",
    "            if (more_info.find('subregion')!=-1):\n",
    "                subregion=more_info.split('subregion=')[1]\n",
    "                subregion=subregion .split('\">')[0]\n",
    "\n",
    "# Return to previous page..\n",
    "            browser.back()\n",
    "        except:\n",
    "\n",
    "# If wine has no detail the all fields are N/A and return to previous page..\n",
    "            country='N/A'\n",
    "            region='N/A'\n",
    "            subregion='N/A'\n",
    "            variety='N/A'\n",
    "            wtype='N/A'\n",
    "            browser.back()\n",
    "\n",
    "# Append to dataframe..\n",
    "        wine_df=wine_df.append({\n",
    "            'merchant':merchant,\n",
    "            'address':address,\n",
    "            'name':str(wines[i].text),\n",
    "            'regprice':str(wines_bottleprice[i].text),\n",
    "            'description':str(wines_description[i].text),\n",
    "            'country':country,\n",
    "            'region':region,\n",
    "            'subregion':subregion,\n",
    "            'variety':variety,\n",
    "            'type':wtype\n",
    "        },ignore_index=True)       \n",
    "\n",
    "# When going through all the wines on a page click to the next page of wines.. \n",
    "#     otherwise if there are no more pages, break out of while loop and end the scraping\n",
    "#     and write the dataframe obtained into a csv file..\n",
    "    try:\n",
    "        browser.links.find_by_partial_text('>>').click()\n",
    "    except:\n",
    "        break\n",
    "browser.quit()\n",
    "print('Scraping Complete')\n",
    "wine_df.to_csv(\"chathambuyrite.csv\")"
   ]
  }
 ],
 "metadata": {
  "kernelspec": {
   "display_name": "Python 3",
   "language": "python",
   "name": "python3"
  },
  "language_info": {
   "codemirror_mode": {
    "name": "ipython",
    "version": 3
   },
   "file_extension": ".py",
   "mimetype": "text/x-python",
   "name": "python",
   "nbconvert_exporter": "python",
   "pygments_lexer": "ipython3",
   "version": "3.6.10"
  }
 },
 "nbformat": 4,
 "nbformat_minor": 4
}
