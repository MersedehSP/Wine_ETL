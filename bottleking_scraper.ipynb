{
 "cells": [
  {
   "cell_type": "code",
   "execution_count": null,
   "metadata": {},
   "outputs": [],
   "source": [
    "import pandas as pd\n",
    "from splinter import Browser\n",
    "from bs4 import BeautifulSoup\n",
    "from webdriver_manager.chrome import ChromeDriverManager"
   ]
  },
  {
   "cell_type": "code",
   "execution_count": null,
   "metadata": {},
   "outputs": [],
   "source": [
    "executable_path={'executable_path':ChromeDriverManager().install()}\n",
    "browser=Browser('chrome',**executable_path, headless=False)"
   ]
  },
  {
   "cell_type": "code",
   "execution_count": null,
   "metadata": {},
   "outputs": [],
   "source": [
    "url='https://chatham.bottleking.com/main.asp?request=search&type=w'\n",
    "browser.visit(url)"
   ]
  },
  {
   "cell_type": "code",
   "execution_count": null,
   "metadata": {},
   "outputs": [],
   "source": [
    "wine_df=pd.DataFrame(columns=['sku','name','bottlesize','regprice','saleprice',\n",
    "                              'description','url','country','region','variety','type'])\n",
    "while True:\n",
    "    print(\"Scraping please be patient...\")\n",
    "    html=browser.html\n",
    "    soup=BeautifulSoup(html,'html.parser')\n",
    "    wines=soup.find_all('a',{'class':['Srch-producttitle']})\n",
    "    wines_sku=soup.find_all('span',{'class':['Srch-sku']})\n",
    "    wines_bottlesize=soup.find_all('span',{'class':['Srch-bottlesize']})\n",
    "    wines_description=soup.find_all('span',{'class':['Srch-partialDesc']})\n",
    "    wines_bottleprice=soup.find_all('span',{'class':['RegularPrice']})\n",
    "    wines_saleprice=soup.find_all('span',{'class':['SalePrice']})\n",
    "    for i in range(len(wines)):\n",
    "#        print(wines[i].text,' ',wines_sku[i].text,' ', wines_bottlesize[i].text,' ', wines_bottleprice[i].text,' ', wines_saleprice[i].text)\n",
    "#        print('                     ',wines_description[i].text)\n",
    "        sku=wines_sku[i].text.replace('Sku: ','')\n",
    "        url='https://chatham.bottleking.com/sku'+ sku +'.html'\n",
    "#        print('Url=',url)\n",
    "        try:\n",
    "            browser.visit(url)\n",
    "            html=browser.html\n",
    "            soup=BeautifulSoup(html,'html.parser')\n",
    "            more_info=str(soup.find_all('a',{'class':['reglink']}))\n",
    "            country=more_info.split('country=')[1]\n",
    "            country=country.split('\">')[0]\n",
    "            region=more_info.split('region=')[1]\n",
    "            region=region.split('\">')[0]\n",
    "            variety=more_info.split('variety=')[1]\n",
    "            variety=variety.split('\">')[0]\n",
    "            wtype=more_info.split('type=W\">')[1]\n",
    "            wtype=wtype.split('<')[0]\n",
    "#            print(country,' ',region,' ',variety,' ',wtype)\n",
    "            browser.back()\n",
    "        except:\n",
    "            country='N/A'\n",
    "            region='N/A'\n",
    "            variety='N/A'\n",
    "            wtype='N/A'\n",
    "            url='N/A'\n",
    "            browser.back()\n",
    " \n",
    "        wine_df=wine_df.append({\n",
    "            'sku':str(sku),\n",
    "            'name':str(wines[i].text),\n",
    "            'bottlesize':str(wines_bottlesize[i].text),\n",
    "            'regprice':str(wines_bottleprice[i].text),\n",
    "            'saleprice':str(wines_saleprice[i].text),\n",
    "            'description':str(wines_description[i].text),\n",
    "            'url':url,\n",
    "            'country':country,\n",
    "            'region':region,\n",
    "            'variety':variety,\n",
    "            'type':wtype\n",
    "        },ignore_index=True)       \n",
    "#        print('------\\n')\n",
    "    try:\n",
    "        browser.links.find_by_partial_text('>>').click()\n",
    "    except:\n",
    "        break\n",
    "browse_quit()\n",
    "print('Scraping Complete')\n",
    "wine_df.to_csv(\"chathambuyrite.csv\")"
   ]
  }
 ],
 "metadata": {
  "kernelspec": {
   "display_name": "Python 3",
   "language": "python",
   "name": "python3"
  },
  "language_info": {
   "codemirror_mode": {
    "name": "ipython",
    "version": 3
   },
   "file_extension": ".py",
   "mimetype": "text/x-python",
   "name": "python",
   "nbconvert_exporter": "python",
   "pygments_lexer": "ipython3",
   "version": "3.6.10"
  }
 },
 "nbformat": 4,
 "nbformat_minor": 4
}
