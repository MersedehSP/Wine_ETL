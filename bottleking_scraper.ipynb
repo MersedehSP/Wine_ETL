{
 "cells": [
  {
   "cell_type": "code",
   "execution_count": 1,
   "metadata": {},
   "outputs": [],
   "source": [
    "import pandas as pd\n",
    "from splinter import Browser\n",
    "from bs4 import BeautifulSoup\n",
    "from webdriver_manager.chrome import ChromeDriverManager"
   ]
  },
  {
   "cell_type": "code",
   "execution_count": 2,
   "metadata": {},
   "outputs": [
    {
     "name": "stderr",
     "output_type": "stream",
     "text": [
      "[WDM] - Current google-chrome version is 86.0.4240\n",
      "[WDM] - Get LATEST driver version for 86.0.4240\n",
      "[WDM] - Driver [C:\\Users\\jlubr\\.wdm\\drivers\\chromedriver\\win32\\86.0.4240.22\\chromedriver.exe] found in cache\n"
     ]
    },
    {
     "name": "stdout",
     "output_type": "stream",
     "text": [
      " \n"
     ]
    }
   ],
   "source": [
    "executable_path={'executable_path':ChromeDriverManager().install()}\n",
    "browser=Browser('chrome',**executable_path, headless=False)"
   ]
  },
  {
   "cell_type": "code",
   "execution_count": 3,
   "metadata": {},
   "outputs": [],
   "source": [
    "url='https://chatham.bottleking.com/main.asp?request=search&type=w'\n",
    "browser.visit(url)"
   ]
  },
  {
   "cell_type": "code",
   "execution_count": 4,
   "metadata": {},
   "outputs": [
    {
     "name": "stdout",
     "output_type": "stream",
     "text": [
      "Scraping please be patient\n",
      "Scraping Complete\n"
     ]
    }
   ],
   "source": [
    "wine_df=pd.DataFrame(columns=['name','country','region','state','subtype',\n",
    "                              'varietal','price','description','merchant','address'])\n",
    "merchant='Chatham BottleKing'\n",
    "address='41 Watchung Ave, Chatham, NJ, 07928'\n",
    "\n",
    "print(\"Scraping please be patient\")\n",
    "while True:\n",
    "    html=browser.html\n",
    "    soup=BeautifulSoup(html,'html.parser')\n",
    "    wine_summary_boxes=soup.find_all('td',{'colspan':['2']})\n",
    "    wine_summary_boxes.pop()\n",
    "    for box in wine_summary_boxes:\n",
    "        name=box.find('a',{'class':['Srch-producttitle']}).text\n",
    "        price=box.find('span',{'class':['RegularPrice']}).text\n",
    "        description=box.find('span',{'class':['Srch-partialDesc']}).text\n",
    "        wine=box.find('a',{'class':['Srch-producttitle']})\n",
    "        url=wine.get('href')\n",
    "        try:\n",
    "            browser.visit(url)\n",
    "            html=browser.html\n",
    "            soup=BeautifulSoup(html,'html.parser')\n",
    "            wineinfo=soup.find('div',{'class':['info_list']})\n",
    "            details=wineinfo.find_all('span',{'class':['iteminfocat']})\n",
    "            bottle_info=wineinfo.find_all('a',{'class':['reglink']})\n",
    "            for detail in details:\n",
    "                index=0\n",
    "                subregion='N/A'\n",
    "                if (detail.text =='Sub-Region:'):\n",
    "                    index=1\n",
    "                    subregion=bottle_info[3].text\n",
    "                if (detail.text =='Country:'):\n",
    "                    country=bottle_info[index].text\n",
    "                if (detail.text =='Region:'):\n",
    "                    region=bottle_info[index+1].text\n",
    "                if (detail.text =='Grape Varietal:'):\n",
    "                    varietal=bottle_info[index+2].text\n",
    "                if (detail.text =='Type:'):\n",
    "                    wtype=bottle_info[index+3].text\n",
    "            browser.back()\n",
    "        except:\n",
    "            country='N/A'\n",
    "            region='N/A'\n",
    "            subregion='N/A'\n",
    "            variety='N/A'\n",
    "            wtype='N/A'\n",
    "            browser.back()\n",
    "            \n",
    "        wine_df=wine_df.append({\n",
    "            'name':name,\n",
    "            'country':country,\n",
    "            'region':subregion,\n",
    "            'state':region,\n",
    "            'subtype':wtype,\n",
    "            'varietal':varietal,\n",
    "            'price':price,\n",
    "            'description':description,\n",
    "            'merchant':merchant,\n",
    "            'address':address\n",
    "        },ignore_index=True)\n",
    "        \n",
    "    try:\n",
    "        browser.links.find_by_partial_text('>>').click()\n",
    "    except:\n",
    "        break\n",
    "browser.quit()\n",
    "print('Scraping Complete')\n",
    "wine_df.to_csv(\"chathambuyrite.csv\")"
   ]
  }
 ],
 "metadata": {
  "kernelspec": {
   "display_name": "Python 3",
   "language": "python",
   "name": "python3"
  },
  "language_info": {
   "codemirror_mode": {
    "name": "ipython",
    "version": 3
   },
   "file_extension": ".py",
   "mimetype": "text/x-python",
   "name": "python",
   "nbconvert_exporter": "python",
   "pygments_lexer": "ipython3",
   "version": "3.6.10"
  }
 },
 "nbformat": 4,
 "nbformat_minor": 4
}
