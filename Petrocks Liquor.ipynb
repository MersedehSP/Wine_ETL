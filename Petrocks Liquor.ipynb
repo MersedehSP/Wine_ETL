{
 "cells": [
  {
   "cell_type": "code",
   "execution_count": null,
   "metadata": {},
   "outputs": [],
   "source": [
    "\n",
    "import time\n",
    "from bs4 import BeautifulSoup\n",
    "from webdriver_manager.chrome import ChromeDriverManager\n",
    "import pandas as pd\n",
    "from splinter import Browser"
   ]
  },
  {
   "cell_type": "code",
   "execution_count": 2,
   "metadata": {},
   "outputs": [
    {
     "name": "stderr",
     "output_type": "stream",
     "text": [
      "[WDM] - Current google-chrome version is 86.0.4240\n",
      "[WDM] - Get LATEST driver version for 86.0.4240\n",
      "[WDM] - Driver [C:\\Users\\merse\\.wdm\\drivers\\chromedriver\\win32\\86.0.4240.22\\chromedriver.exe] found in cache\n"
     ]
    },
    {
     "name": "stdout",
     "output_type": "stream",
     "text": [
      " \n"
     ]
    }
   ],
   "source": [
    "# Import Splinter and set the chromedriver path\n",
    "\n",
    "executable_path = {'executable_path': ChromeDriverManager().install()}\n",
    "browser = Browser('chrome', **executable_path, headless=False)"
   ]
  },
  {
   "cell_type": "code",
   "execution_count": 3,
   "metadata": {},
   "outputs": [],
   "source": [
    "url = \"https://www.petrocksliquors.com/category_Wine\"\n",
    "browser.visit(url)\n",
    "html = browser.html\n",
    "soup = BeautifulSoup(html, 'html.parser')"
   ]
  },
  {
   "cell_type": "code",
   "execution_count": 30,
   "metadata": {},
   "outputs": [
    {
     "name": "stdout",
     "output_type": "stream",
     "text": [
      " Kendall Jackson Chardonnay Vinters Reserve\n",
      "United States\n",
      "California\n",
      "Chardonnay\n",
      "Still wine\n",
      "$18.19\n",
      "$12.99\n",
      "\n",
      "“From day one we have been a family-owned and family-run business. It is a distinction that is rapidly becoming a rarity in our industry. Our family culture is built on the time-honored principles of hard work, integrity, an uncompromising desire for quality and the long-term stewardship of the land.” - JESS JACKSON, Founder\n",
      "\n",
      "At Kendall-Jackson, sustainability is key to the longevity and quality of our vineyards - we owe this to future generations. Since 2011, all of our vineyards have been third-party certified as sustainable by CCSW (Certified California Sustainable Winegrowing) and SIP (Sustainability in Practice). Responsible stewardship measures include composting, rotating cover crops, disking, integrated pest management, raptor programs and a commitment to supporting the community.\n",
      "\n"
     ]
    }
   ],
   "source": [
    "browser.find_link_by_partial_text(\"click for more details\")[0].click()\n",
    "#links.find_by_partial_href(\"sku\")[6].click()\n",
    "wine_html =  browser.html\n",
    "wine_soup = BeautifulSoup(wine_html, 'html.parser')\n",
    "name = wine_soup.find(\"span\", class_=\"producttitle\").text\n",
    "country =wine_soup.find_all(\"a\", class_=\"reglink\")[0].text\n",
    "region = wine_soup.find_all(\"a\", class_=\"reglink\")[1].text\n",
    "grape_varietal = wine_soup.find_all(\"a\", class_=\"reglink\")[2].text\n",
    "wine_type = wine_soup.find_all(\"a\", class_=\"reglink\")[3].text\n",
    "bottle_price = wine_soup.find(\"span\", class_=\"RegularPrice\").text\n",
    "sale_price = wine_soup.find(\"span\", class_=\"SalePrice\").text\n",
    "\n",
    "description = wine_soup.find(\"div\", id=\"moreinfo\")\n",
    "description = description.find_all(\"tr\")[1].text\n",
    "#description = description.split('\"')[0]\n",
    "print(name)\n",
    "print(country)\n",
    "print(region)\n",
    "print(grape_varietal)\n",
    "print(wine_type)\n",
    "print(bottle_price)\n",
    "print(sale_price)\n",
    "print(description)"
   ]
  },
  {
   "cell_type": "code",
   "execution_count": 13,
   "metadata": {},
   "outputs": [],
   "source": [
    "url = \"https://www.petrocksliquors.com/category_Wine\"\n",
    "browser.visit(url)\n",
    "html = browser.html\n",
    "soup = BeautifulSoup(html, 'html.parser')"
   ]
  },
  {
   "cell_type": "code",
   "execution_count": null,
   "metadata": {},
   "outputs": [],
   "source": [
    "petrocks_url = \"https://www.petrocksliquors.com/category_Wine\"\n",
    "browser.visit(petrocks_url)\n",
    "\n",
    "wine_list = []\n",
    "\n",
    "for i in range (140):    \n",
    "     \n",
    "      \n",
    "    browser.find_by_css(\"a b\")[i].click()\n",
    "    wine_html =  browser.html\n",
    "    wine_soup = BeautifulSoup(wine_html, 'html.parser')\n",
    "    \n",
    "    for j in range(15):\n",
    "        \n",
    "        wine ={}\n",
    "        browser.find_by_tag('div[style=\"width:200px; height:200px;overflow: hidden;\"]')[j].click()\n",
    "        wine_html =  browser.html\n",
    "        wine_soup = BeautifulSoup(wine_html, 'html.parser')\n",
    "        try:\n",
    "            \n",
    "            \n",
    "        \n",
    "            name = wine_soup.find(\"span\", class_=\"producttitle\").text\n",
    "            country =wine_soup.find_all(\"a\", class_=\"reglink\")[0].text\n",
    "            region = wine_soup.find_all(\"a\", class_=\"reglink\")[1].text\n",
    "            grape_varietal = wine_soup.find_all(\"a\", class_=\"reglink\")[2].text\n",
    "            wine_type = wine_soup.find_all(\"a\", class_=\"reglink\")[3].text\n",
    "            bottle_price = wine_soup.find(\"span\", class_=\"RegularPrice\").text\n",
    "            sale_price = wine_soup.find(\"span\", class_=\"SalePrice\").text\n",
    "            description = wine_soup.find(\"div\", id=\"moreinfo\")\n",
    "            description = description.find_all(\"tr\")[1].text\n",
    "            merchant = \"Petrocks Liquors\"\n",
    "            address = \"419 Amwell Road Hillsborough, NJ 08844\"\n",
    "        except:\n",
    "            name= \"None\"\n",
    "            country =\"None\"\n",
    "            region = \"None\"\n",
    "            grape_varietal = \"None\"\n",
    "            wine_type = \"None\"\n",
    "            bottle_price = \"None\"\n",
    "            sale_price = \"None\"\n",
    "            description = \"None\"\n",
    "            \n",
    "        wine={\n",
    "             \"name\":name, \n",
    "             \"country\": country,\n",
    "             \"region\": region,\n",
    "             \"grape_varietal\" : grape_varietal,\n",
    "              \"wine_type\" : wine_type,\n",
    "               \"bottle_price\":bottle_price,\n",
    "               \"sale_price\":sale_price,\n",
    "               \"description\" : description\n",
    "             }\n",
    "        \n",
    "        wine_list.append(wine)\n",
    "        browser.back()\n",
    "    browser.find_by_text(\">>\").click()\n",
    "    print(\"I clicked on next page :D\")\n",
    "        \n",
    "wine_list"
   ]
  },
  {
   "cell_type": "code",
   "execution_count": null,
   "metadata": {},
   "outputs": [],
   "source": []
  },
  {
   "cell_type": "code",
   "execution_count": null,
   "metadata": {},
   "outputs": [],
   "source": [
    "import csv\n",
    "csv_columns = [\"name\",\"country\",\"region\",\"grape_varietal\",\"wine_type\", \"bottle_price\",\"sale_price\" ]\n",
    "csv_file =\"data.csv\"\n",
    "try:\n",
    "    with open(csv_file, 'w') as csvfile:\n",
    "        writer = csv.DictWriter(csvfile, fieldnames=csv_columns)\n",
    "        writer.writeheader()\n",
    "        for data in wine_list:\n",
    "            writer.writerow(data)\n",
    "except IOError:\n",
    "    print(\"I/O error\")"
   ]
  },
  {
   "cell_type": "code",
   "execution_count": null,
   "metadata": {},
   "outputs": [],
   "source": []
  },
  {
   "cell_type": "code",
   "execution_count": null,
   "metadata": {},
   "outputs": [],
   "source": []
  }
 ],
 "metadata": {
  "kernelspec": {
   "display_name": "Python 3",
   "language": "python",
   "name": "python3"
  },
  "language_info": {
   "codemirror_mode": {
    "name": "ipython",
    "version": 3
   },
   "file_extension": ".py",
   "mimetype": "text/x-python",
   "name": "python",
   "nbconvert_exporter": "python",
   "pygments_lexer": "ipython3",
   "version": "3.6.10"
  }
 },
 "nbformat": 4,
 "nbformat_minor": 4
}
