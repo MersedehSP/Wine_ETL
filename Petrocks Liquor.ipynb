{
 "cells": [
  {
   "cell_type": "code",
   "execution_count": 5,
   "metadata": {},
   "outputs": [],
   "source": [
    "\n",
    "import time\n",
    "from bs4 import BeautifulSoup\n",
    "from webdriver_manager.chrome import ChromeDriverManager\n",
    "import pandas as pd\n",
    "from splinter import Browser"
   ]
  },
  {
   "cell_type": "code",
   "execution_count": 6,
   "metadata": {},
   "outputs": [
    {
     "name": "stderr",
     "output_type": "stream",
     "text": [
      "[WDM] - Current google-chrome version is 86.0.4240\n",
      "[WDM] - Get LATEST driver version for 86.0.4240\n",
      "[WDM] - Driver [C:\\Users\\merse\\.wdm\\drivers\\chromedriver\\win32\\86.0.4240.22\\chromedriver.exe] found in cache\n"
     ]
    },
    {
     "name": "stdout",
     "output_type": "stream",
     "text": [
      " \n"
     ]
    }
   ],
   "source": [
    "# Import Splinter and set the chromedriver path\n",
    "\n",
    "executable_path = {'executable_path': ChromeDriverManager().install()}\n",
    "browser = Browser('chrome', **executable_path, headless=False)"
   ]
  },
  {
   "cell_type": "code",
   "execution_count": 7,
   "metadata": {},
   "outputs": [],
   "source": [
    "url = \"https://www.petrocksliquors.com/category_Wine\"\n",
    "browser.visit(url)\n",
    "html = browser.html\n",
    "soup = BeautifulSoup(html, 'html.parser')"
   ]
  },
  {
   "cell_type": "code",
   "execution_count": 11,
   "metadata": {},
   "outputs": [
    {
     "ename": "AttributeError",
     "evalue": "'NoneType' object has no attribute 'findNext'",
     "output_type": "error",
     "traceback": [
      "\u001b[1;31m---------------------------------------------------------------------------\u001b[0m",
      "\u001b[1;31mAttributeError\u001b[0m                            Traceback (most recent call last)",
      "\u001b[1;32m<ipython-input-11-159898989e57>\u001b[0m in \u001b[0;36m<module>\u001b[1;34m\u001b[0m\n\u001b[0;32m     10\u001b[0m     \u001b[1;31m#region = wine_soup.find_all(\"a\", class_=\"reglink\")[1].text\u001b[0m\u001b[1;33m\u001b[0m\u001b[1;33m\u001b[0m\u001b[1;33m\u001b[0m\u001b[0m\n\u001b[0;32m     11\u001b[0m     \u001b[0mregion\u001b[0m \u001b[1;33m=\u001b[0m \u001b[0mwine_soup\u001b[0m\u001b[1;33m.\u001b[0m\u001b[0mfind\u001b[0m\u001b[1;33m(\u001b[0m\u001b[0mtext\u001b[0m\u001b[1;33m=\u001b[0m \u001b[1;34m\"Region:\"\u001b[0m\u001b[1;33m)\u001b[0m\u001b[1;33m.\u001b[0m\u001b[0mfindNext\u001b[0m\u001b[1;33m(\u001b[0m\u001b[1;34m\"a\"\u001b[0m\u001b[1;33m)\u001b[0m\u001b[1;33m.\u001b[0m\u001b[0mcontents\u001b[0m\u001b[1;33m[\u001b[0m\u001b[1;36m0\u001b[0m\u001b[1;33m]\u001b[0m\u001b[1;33m\u001b[0m\u001b[1;33m\u001b[0m\u001b[0m\n\u001b[1;32m---> 12\u001b[1;33m     \u001b[0msub_region\u001b[0m \u001b[1;33m=\u001b[0m \u001b[0mwine_soup\u001b[0m\u001b[1;33m.\u001b[0m\u001b[0mfind\u001b[0m\u001b[1;33m(\u001b[0m\u001b[0mtext\u001b[0m\u001b[1;33m=\u001b[0m \u001b[1;34m\"Sub-Region:\"\u001b[0m\u001b[1;33m)\u001b[0m\u001b[1;33m.\u001b[0m\u001b[0mfindNext\u001b[0m\u001b[1;33m(\u001b[0m\u001b[1;34m\"a\"\u001b[0m\u001b[1;33m)\u001b[0m\u001b[1;33m.\u001b[0m\u001b[0mcontents\u001b[0m\u001b[1;33m[\u001b[0m\u001b[1;36m0\u001b[0m\u001b[1;33m]\u001b[0m\u001b[1;33m\u001b[0m\u001b[1;33m\u001b[0m\u001b[0m\n\u001b[0m\u001b[0;32m     13\u001b[0m     \u001b[0mgrape_varietal\u001b[0m \u001b[1;33m=\u001b[0m \u001b[0mwine_soup\u001b[0m\u001b[1;33m.\u001b[0m\u001b[0mfind\u001b[0m\u001b[1;33m(\u001b[0m\u001b[0mtext\u001b[0m\u001b[1;33m=\u001b[0m \u001b[1;34m\"Grape Varietal:\"\u001b[0m\u001b[1;33m)\u001b[0m\u001b[1;33m.\u001b[0m\u001b[0mfindNext\u001b[0m\u001b[1;33m(\u001b[0m\u001b[1;34m\"a\"\u001b[0m\u001b[1;33m)\u001b[0m\u001b[1;33m.\u001b[0m\u001b[0mcontents\u001b[0m\u001b[1;33m[\u001b[0m\u001b[1;36m0\u001b[0m\u001b[1;33m]\u001b[0m\u001b[1;33m\u001b[0m\u001b[1;33m\u001b[0m\u001b[0m\n\u001b[0;32m     14\u001b[0m     \u001b[0mwine_type\u001b[0m \u001b[1;33m=\u001b[0m \u001b[0mwine_soup\u001b[0m\u001b[1;33m.\u001b[0m\u001b[0mfind\u001b[0m\u001b[1;33m(\u001b[0m\u001b[0mtext\u001b[0m\u001b[1;33m=\u001b[0m \u001b[1;34m\"Type:\"\u001b[0m\u001b[1;33m)\u001b[0m\u001b[1;33m.\u001b[0m\u001b[0mfindNext\u001b[0m\u001b[1;33m(\u001b[0m\u001b[1;34m\"a\"\u001b[0m\u001b[1;33m)\u001b[0m\u001b[1;33m.\u001b[0m\u001b[0mcontents\u001b[0m\u001b[1;33m[\u001b[0m\u001b[1;36m0\u001b[0m\u001b[1;33m]\u001b[0m\u001b[1;33m\u001b[0m\u001b[1;33m\u001b[0m\u001b[0m\n",
      "\u001b[1;31mAttributeError\u001b[0m: 'NoneType' object has no attribute 'findNext'"
     ]
    }
   ],
   "source": [
    "#for checking a single wine\n",
    "for i in range(10):\n",
    "    #browser.find_link_by_partial_text(\"click for more details\")[i].click()\n",
    "    browser.find_by_tag('div[style=\"width:200px; height:200px;overflow: hidden;\"]')[j].click()\n",
    "    wine_html =  browser.html\n",
    "    wine_soup = BeautifulSoup(wine_html, 'html.parser')\n",
    "    name = wine_soup.find(\"span\", id=\"bmg_itemdetail_prod_title\").text\n",
    "    country =wine_soup.find_all(\"a\", class_=\"reglink\")[0].text\n",
    "    #########################################\n",
    "    #region = wine_soup.find_all(\"a\", class_=\"reglink\")[1].text\n",
    "    region = wine_soup.find(text= \"Region:\").findNext(\"a\").contents[0]\n",
    "    #sub_region = wine_soup.find(text= \"Sub-Region:\").findNext(\"a\").contents[0]\n",
    "    grape_varietal = wine_soup.find(text= \"Grape Varietal:\").findNext(\"a\").contents[0]\n",
    "    wine_type = wine_soup.find(text= \"Type:\").findNext(\"a\").contents[0]\n",
    "    ################################################\n",
    "    bottle_price = wine_soup.find(\"span\", class_=\"RegularPrice\").text\n",
    "    sale_price = wine_soup.find(\"span\", class_=\"SalePrice\").text\n",
    "\n",
    "    description = wine_soup.find(\"div\", id=\"moreinfo\")\n",
    "    description = description.find_all(\"tr\")[1].text\n",
    "    description = description.split('\"')[0]\n",
    "    print(name)\n",
    "    print(country)\n",
    "    print(region)\n",
    "    print(sub_region)\n",
    "    print(grape_varietal)\n",
    "    print(wine_type)\n",
    "    print(bottle_price)\n",
    "    print(sale_price)\n",
    "    print(description)"
   ]
  },
  {
   "cell_type": "code",
   "execution_count": null,
   "metadata": {},
   "outputs": [],
   "source": [
    "#all_info = wine_soup.find(\"div\", class_=\"info_list\").text\n",
    "#print(region)\n",
    "#all_info = all_info.find(\"span\", string =\"Region\")\n",
    "#all_info\n",
    "reg = wine_soup.find(text= \"Region:\").findNext(\"a\").contents[0]\n",
    "reg "
   ]
  },
  {
   "cell_type": "code",
   "execution_count": null,
   "metadata": {},
   "outputs": [],
   "source": [
    "url = \"https://www.petrocksliquors.com/category_Wine\"\n",
    "browser.visit(url)\n",
    "html = browser.html\n",
    "soup = BeautifulSoup(html, 'html.parser')"
   ]
  },
  {
   "cell_type": "code",
   "execution_count": null,
   "metadata": {},
   "outputs": [
    {
     "name": "stdout",
     "output_type": "stream",
     "text": [
      "I clicked on next page :D\n",
      "I clicked on next page :D\n",
      "I clicked on next page :D\n",
      "I clicked on next page :D\n",
      "I clicked on next page :D\n",
      "I clicked on next page :D\n",
      "I clicked on next page :D\n",
      "I clicked on next page :D\n",
      "I clicked on next page :D\n",
      "I clicked on next page :D\n",
      "I clicked on next page :D\n",
      "I clicked on next page :D\n",
      "I clicked on next page :D\n",
      "I clicked on next page :D\n",
      "I clicked on next page :D\n",
      "I clicked on next page :D\n",
      "I clicked on next page :D\n",
      "I clicked on next page :D\n",
      "I clicked on next page :D\n"
     ]
    }
   ],
   "source": [
    "petrocks_url = \"https://www.petrocksliquors.com/category_Wine\"\n",
    "browser.visit(petrocks_url)\n",
    "sub_region = \"none\"\n",
    "wine_list = []\n",
    "\n",
    "for i in range (247):    \n",
    "     \n",
    "      \n",
    "    #browser.find_by_css(\"a b\")[i].click()\n",
    "    #wine_html =  browser.html\n",
    "    #wine_soup = BeautifulSoup(wine_html, 'html.parser')\n",
    "    \n",
    "    for j in range(18):\n",
    "            time.sleep(8)\n",
    "            wine ={}\n",
    "            #browser.find_link_by_partial_text(\"click for more details\")[j].click()\n",
    "            browser.find_by_tag('div[style=\"width:200px; height:200px;overflow: hidden;\"]')[j].click()\n",
    "            wine_html =  browser.html\n",
    "            wine_soup = BeautifulSoup(wine_html, 'html.parser')\n",
    "            try:\n",
    "\n",
    "\n",
    "\n",
    "                name = wine_soup.find(\"span\", id=\"bmg_itemdetail_prod_title\").text\n",
    "                country =wine_soup.find_all(\"a\", class_=\"reglink\")[0].text\n",
    "                region = wine_soup.find(text= \"Region:\").findNext(\"a\").contents[0]\n",
    "                sub_region = wine_soup.find(text= \"Sub-Region:\").findNext(\"a\").contents[0]\n",
    "                grape_varietal = wine_soup.find(text= \"Grape Varietal:\").findNext(\"a\").contents[0]\n",
    "                wine_type = wine_soup.find(text= \"Type:\").findNext(\"a\").contents[0]\n",
    "                bottle_price = wine_soup.find(\"span\", class_=\"RegularPrice\").text\n",
    "                sale_price = wine_soup.find(\"span\", class_=\"SalePrice\").text\n",
    "                description = wine_soup.find(\"div\", id=\"moreinfo\")\n",
    "                description = description.find_all(\"tr\")[1].text\n",
    "                merchant = \"Petrocks Liquors\"\n",
    "                address = \"419 Amwell Road Hillsborough, NJ 08844\"\n",
    "            except:\n",
    "                name= None\n",
    "                country =None\n",
    "                region = None\n",
    "                sub_region = None\n",
    "                grape_varietal = None\n",
    "                wine_type = None\n",
    "                bottle_price = None\n",
    "                sale_price = None\n",
    "                description = None\n",
    "                merchant = None\n",
    "                address = None\n",
    "            wine={\n",
    "                 \"name\":name, \n",
    "                 \"country\": country,\n",
    "                 \"region\": region,\n",
    "                \"sub_region\": sub_region,\n",
    "                 \"grape_varietal\" : grape_varietal,\n",
    "                  \"wine_type\" : wine_type,\n",
    "                   \"bottle_price\":bottle_price,\n",
    "                   \"sale_price\":sale_price,\n",
    "                   \"description\" : description, \n",
    "                   \"merchant\": merchant,\n",
    "                   \"address\" :address\n",
    "                 }\n",
    "\n",
    "            wine_list.append(wine)\n",
    "            browser.back()\n",
    "    browser.find_by_text(\">>\").click()\n",
    "    print(\"I clicked on next page :D\")\n",
    "        \n",
    "wine_list"
   ]
  },
  {
   "cell_type": "code",
   "execution_count": null,
   "metadata": {},
   "outputs": [],
   "source": []
  },
  {
   "cell_type": "code",
   "execution_count": null,
   "metadata": {},
   "outputs": [],
   "source": [
    "import csv\n",
    "csv_columns = [\"name\",\"country\",\"region\",\"sub_region\",\"grape_varietal\",\"wine_type\", \"bottle_price\",\"sale_price\",\"description\", \"merchant\", \"address\"]\n",
    "csv_file =\"data.csv\"\n",
    "try:\n",
    "    with open(csv_file, 'w') as csvfile:\n",
    "        writer = csv.DictWriter(csvfile, fieldnames=csv_columns)\n",
    "        writer.writeheader()\n",
    "        for data in wine_list:\n",
    "            writer.writerow(data)\n",
    "except IOError:\n",
    "    print(\"I/O error\")"
   ]
  },
  {
   "cell_type": "code",
   "execution_count": null,
   "metadata": {},
   "outputs": [],
   "source": [
    "wine_list_df = pd.DataFrame(wine_list)\n",
    "wine_list_df"
   ]
  },
  {
   "cell_type": "code",
   "execution_count": null,
   "metadata": {},
   "outputs": [],
   "source": [
    "wine_list_df.to_csv(\"petrocks\".csv\")"
   ]
  },
  {
   "cell_type": "code",
   "execution_count": null,
   "metadata": {},
   "outputs": [],
   "source": []
  }
 ],
 "metadata": {
  "kernelspec": {
   "display_name": "Python 3",
   "language": "python",
   "name": "python3"
  },
  "language_info": {
   "codemirror_mode": {
    "name": "ipython",
    "version": 3
   },
   "file_extension": ".py",
   "mimetype": "text/x-python",
   "name": "python",
   "nbconvert_exporter": "python",
   "pygments_lexer": "ipython3",
   "version": "3.6.10"
  }
 },
 "nbformat": 4,
 "nbformat_minor": 4
}
