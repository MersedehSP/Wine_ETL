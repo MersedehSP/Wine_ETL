{
 "cells": [
  {
   "cell_type": "code",
   "execution_count": null,
   "metadata": {},
   "outputs": [],
   "source": [
    "\n",
    "import time\n",
    "from bs4 import BeautifulSoup\n",
    "from webdriver_manager.chrome import ChromeDriverManager\n",
    "import pandas as pd\n",
    "from splinter import Browser"
   ]
  },
  {
   "cell_type": "code",
   "execution_count": null,
   "metadata": {},
   "outputs": [],
   "source": [
    "# Import Splinter and set the chromedriver path\n",
    "\n",
    "executable_path = {'executable_path': ChromeDriverManager().install()}\n",
    "browser = Browser('chrome', **executable_path, headless=False)"
   ]
  },
  {
   "cell_type": "code",
   "execution_count": null,
   "metadata": {},
   "outputs": [],
   "source": [
    "url = \"https://www.petrocksliquors.com/category_Wine\"\n",
    "browser.visit(url)\n",
    "html = browser.html\n",
    "soup = BeautifulSoup(html, 'html.parser')"
   ]
  },
  {
   "cell_type": "code",
   "execution_count": null,
   "metadata": {},
   "outputs": [],
   "source": [
    "\n",
    "\n",
    "btkg_url = \"https://www.petrocksliquors.com/category_Wine\"\n",
    "browser.visit(btkg_url)\n",
    "\n",
    "wine_list = []\n",
    "counter =0\n",
    "for i in range (2):\n",
    "    page_url = browser.find_by_css(\"a b\")[i].click()\n",
    "    for j in range(20):\n",
    "        \n",
    "        wine ={}\n",
    "        try:\n",
    "            #browser.find_link_by_partial_text(\"click for more details\")[j].click()\n",
    "            browser.find_by_css(\"a\")[j].click\n",
    "            wine_html =  browser.html\n",
    "            wine_soup = BeautifulSoup(wine_html, 'html.parser')\n",
    "        \n",
    "            name = wine_soup.find(\"span\", class_=\"producttitle\").text\n",
    "            country =wine_soup.find_all(\"a\", class_=\"reglink\")[0].text\n",
    "            region = wine_soup.find_all(\"a\", class_=\"reglink\")[1].text\n",
    "            grape_varietal = wine_soup.find_all(\"a\", class_=\"reglink\")[2].text\n",
    "            wine_type = wine_soup.find_all(\"a\", class_=\"reglink\")[3].text\n",
    "            bottle_price = wine_soup.find(\"span\", class_=\"RegularPrice\").text\n",
    "            sale_price = wine_soup.find(\"span\", class_=\"SalePrice\").text\n",
    "        except:\n",
    "            name= None\n",
    "            country =None\n",
    "            region = None\n",
    "            grape_varietal = None\n",
    "            wine_type = None\n",
    "            bottle_price = None\n",
    "            sale_price =None\n",
    "            \n",
    "        wine={\n",
    "             \"name\":name, \n",
    "             \"country\": country,\n",
    "             \"region\": region,\n",
    "             \"grape_varietal\" : grape_varietal,\n",
    "              \"wine_type\" : wine_type,\n",
    "               \"bottle_price\":bottle_price,\n",
    "               \"sale_price\":sale_price\n",
    "             }\n",
    "        \n",
    "        wine_list.append(wine)\n",
    "        browser.back()\n",
    "\n",
    "        \n",
    "wine_list"
   ]
  },
  {
   "cell_type": "code",
   "execution_count": null,
   "metadata": {},
   "outputs": [],
   "source": []
  },
  {
   "cell_type": "code",
   "execution_count": null,
   "metadata": {},
   "outputs": [],
   "source": [
    "import csv\n",
    "csv_columns = [\"name\",\"country\",\"region\",\"grape_varietal\",\"wine_type\", \"bottle_price\",\"sale_price\" ]\n",
    "csv_file =\"data.csv\"\n",
    "try:\n",
    "    with open(csv_file, 'w') as csvfile:\n",
    "        writer = csv.DictWriter(csvfile, fieldnames=csv_columns)\n",
    "        writer.writeheader()\n",
    "        for data in wine_list:\n",
    "            writer.writerow(data)\n",
    "except IOError:\n",
    "    print(\"I/O error\")"
   ]
  },
  {
   "cell_type": "code",
   "execution_count": null,
   "metadata": {},
   "outputs": [],
   "source": []
  },
  {
   "cell_type": "code",
   "execution_count": null,
   "metadata": {},
   "outputs": [],
   "source": []
  }
 ],
 "metadata": {
  "kernelspec": {
   "display_name": "Python 3",
   "language": "python",
   "name": "python3"
  },
  "language_info": {
   "codemirror_mode": {
    "name": "ipython",
    "version": 3
   },
   "file_extension": ".py",
   "mimetype": "text/x-python",
   "name": "python",
   "nbconvert_exporter": "python",
   "pygments_lexer": "ipython3",
   "version": "3.6.10"
  }
 },
 "nbformat": 4,
 "nbformat_minor": 4
}
